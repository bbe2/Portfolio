{
 "cells": [
  {
   "cell_type": "code",
   "execution_count": 21,
   "metadata": {},
   "outputs": [],
   "source": [
    "\"\"\" Part 1: Set Computer File Directory \n",
    "    os=operating system\"\"\"\n",
    "import os\n",
    "os.chdir('C:\\\\Users\\\\17574\\\\Desktop')"
   ]
  },
  {
   "cell_type": "code",
   "execution_count": 22,
   "metadata": {},
   "outputs": [],
   "source": [
    "\"\"\" Part 2: Set Google Speech Recognition\n",
    "            and Microphone Library Functions \"\"\"\n",
    "import speech_recognition as sr\n",
    "import pyaudio"
   ]
  },
  {
   "cell_type": "code",
   "execution_count": 23,
   "metadata": {},
   "outputs": [
    {
     "name": "stdout",
     "output_type": "stream",
     "text": [
      "Ready? Say something quick\n",
      "You Said...: Nacho\n"
     ]
    }
   ],
   "source": [
    "\"\"\" Part 3: Ask user to same something\n",
    "    use Google speech to parse words\"\"\"\n",
    "with sr.Microphone() as source:\n",
    "    print(\"Ready? Say something quick\")\n",
    "    myWords = sr.Recognizer().listen(source)\n",
    "    print(\"You Said...: \"+ sr.Recognizer().recognize_google(myWords))"
   ]
  },
  {
   "cell_type": "code",
   "execution_count": 24,
   "metadata": {},
   "outputs": [],
   "source": [
    "\"\"\"Part 4: Encode words into audio file\n",
    "    audio data is binary so add 'wb'\n",
    "    for 'write binary data (1 or 0)\"\"\"\n",
    "with open(\"myAudio.wav\", \"wb\") as file_:\n",
    "    file_.write(myWords.get_wav_data()) "
   ]
  },
  {
   "cell_type": "code",
   "execution_count": 29,
   "metadata": {},
   "outputs": [],
   "source": [
    "\"\"\"Part 5: Import a generic microphone module \"\"\"\n",
    "from playsound import playsound\n",
    "playsound('myAudio.wav') "
   ]
  },
  {
   "cell_type": "code",
   "execution_count": null,
   "metadata": {},
   "outputs": [],
   "source": [
    "import os\n",
    "os.chdir('C:\\\\Users\\\\17574\\\\Desktop')\n",
    "import speech_recognition as sr\n",
    "import pyaudio\n",
    "with sr.Microphone() as source:\n",
    "    print(\"Ready? Say something quick\")\n",
    "    myWords_1 = sr.Recognizer().listen(source)\n",
    "    print(\"You Said...: \"+ sr.Recognizer().recognize_google(myWords))\n",
    "with sr.Microphone() as source:\n",
    "    print(\"Ready? Say something quick\")\n",
    "    myWords_2 = sr.Recognizer().listen(source)\n",
    "    print(\"You Said...: \"+ sr.Recognizer().recognize_google(myWords))\n",
    "myWords = myWords_1 + myWords_2\n",
    "with open(\"myAudio.wav\", \"wb\") as file_:\n",
    "    file_.write(myWords.get_wav_data())  \n",
    "from playsound import playsound\n",
    "playsound('myAudio.wav')"
   ]
  },
  {
   "cell_type": "code",
   "execution_count": null,
   "metadata": {},
   "outputs": [],
   "source": [
    "# >>> computer would ask you to say something\n",
    "# >>> record it, well actually translate it to tech\n",
    "# >>> play the text to audio translated file back to"
   ]
  },
  {
   "cell_type": "code",
   "execution_count": 31,
   "metadata": {},
   "outputs": [
    {
     "name": "stdout",
     "output_type": "stream",
     "text": [
      "Ready? Say something quick\n",
      "You Said...: I like cake\n"
     ]
    }
   ],
   "source": [
    "\"\"\" Run like a Pro \"\"\"\n",
    "import os\n",
    "os.chdir('C:\\\\Users\\\\17574\\\\Desktop')\n",
    "import speech_recognition as sr\n",
    "import pyaudio\n",
    "with sr.Microphone() as source:\n",
    "    print(\"Ready? Say something quick\")\n",
    "    myWords = sr.Recognizer().listen(source)\n",
    "    print(\"You Said...: \"+ sr.Recognizer().recognize_google(myWords))\n",
    "with open(\"myAudio.wav\", \"wb\") as file_:\n",
    "    file_.write(myWords.get_wav_data())  \n",
    "from playsound import playsound\n",
    "playsound('myAudio.wav')"
   ]
  }
 ],
 "metadata": {
  "kernelspec": {
   "display_name": "Python 3 (ipykernel)",
   "language": "python",
   "name": "python3"
  },
  "language_info": {
   "codemirror_mode": {
    "name": "ipython",
    "version": 3
   },
   "file_extension": ".py",
   "mimetype": "text/x-python",
   "name": "python",
   "nbconvert_exporter": "python",
   "pygments_lexer": "ipython3",
   "version": "3.9.13"
  }
 },
 "nbformat": 4,
 "nbformat_minor": 2
}
