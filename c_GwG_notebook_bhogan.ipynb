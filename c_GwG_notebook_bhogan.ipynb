{
 "cells": [
  {
   "cell_type": "code",
   "execution_count": 21,
   "metadata": {},
   "outputs": [],
   "source": [
    "\"\"\" Part 1: Set Computer File Directory \n",
    "    os=operating system\"\"\"\n",
    "import os\n",
    "os.chdir('C:\\\\Users\\\\17574\\\\Desktop')"
   ]
  },
  {
   "cell_type": "code",
   "execution_count": 22,
   "metadata": {},
   "outputs": [],
   "source": [
    "\"\"\" Part 2: Set Google Speech Recognition\n",
    "            and Microphone Library Functions \"\"\"\n",
    "import speech_recognition as sr\n",
    "import pyaudio"
   ]
  },
  {
   "cell_type": "code",
   "execution_count": 23,
   "metadata": {},
   "outputs": [
    {
     "name": "stdout",
     "output_type": "stream",
     "text": [
      "Ready? Say something quick\n",
      "You Said...: Nacho\n"
     ]
    }
   ],
   "source": [
    "\"\"\" Part 3: Ask user to same something\n",
    "    use Google speech to parse words\"\"\"\n",
    "with sr.Microphone() as source:\n",
    "    print(\"Ready? Say something quick\")\n",
    "    myWords = sr.Recognizer().listen(source)\n",
    "    print(\"You Said...: \"+ sr.Recognizer().recognize_google(myWords))"
   ]
  },
  {
   "cell_type": "code",
   "execution_count": 24,
   "metadata": {},
   "outputs": [],
   "source": [
    "\"\"\"Part 4: Encode words into audio file\n",
    "    audio data is binary so add 'wb'\n",
    "    for 'write binary data (1 or 0)\"\"\"\n",
    "with open(\"myAudio.wav\", \"wb\") as file_:\n",
    "    file_.write(myWords.get_wav_data()) "
   ]
  },
  {
   "cell_type": "code",
   "execution_count": 29,
   "metadata": {},
   "outputs": [],
   "source": [
    "\"\"\"Part 5: Import a generic microphone module \"\"\"\n",
    "from playsound import playsound\n",
    "playsound('myAudio.wav') "
   ]
  },
  {
   "cell_type": "code",
   "execution_count": 30,
   "metadata": {},
   "outputs": [
    {
     "name": "stdout",
     "output_type": "stream",
     "text": [
      "Ready? Say something quick\n",
      "You Said...: Nacho\n",
      "Ready? Say something quick\n",
      "You Said...: Nacho\n"
     ]
    },
    {
     "ename": "TypeError",
     "evalue": "unsupported operand type(s) for +: 'AudioData' and 'AudioData'",
     "output_type": "error",
     "traceback": [
      "\u001b[1;31m---------------------------------------------------------------------------\u001b[0m",
      "\u001b[1;31mTypeError\u001b[0m                                 Traceback (most recent call last)",
      "\u001b[1;32m<ipython-input-30-e777d3ecacaf>\u001b[0m in \u001b[0;36m<module>\u001b[1;34m\u001b[0m\n\u001b[0;32m     11\u001b[0m     \u001b[0mmyWords_2\u001b[0m \u001b[1;33m=\u001b[0m \u001b[0msr\u001b[0m\u001b[1;33m.\u001b[0m\u001b[0mRecognizer\u001b[0m\u001b[1;33m(\u001b[0m\u001b[1;33m)\u001b[0m\u001b[1;33m.\u001b[0m\u001b[0mlisten\u001b[0m\u001b[1;33m(\u001b[0m\u001b[0msource\u001b[0m\u001b[1;33m)\u001b[0m\u001b[1;33m\u001b[0m\u001b[1;33m\u001b[0m\u001b[0m\n\u001b[0;32m     12\u001b[0m     \u001b[0mprint\u001b[0m\u001b[1;33m(\u001b[0m\u001b[1;34m\"You Said...: \"\u001b[0m\u001b[1;33m+\u001b[0m \u001b[0msr\u001b[0m\u001b[1;33m.\u001b[0m\u001b[0mRecognizer\u001b[0m\u001b[1;33m(\u001b[0m\u001b[1;33m)\u001b[0m\u001b[1;33m.\u001b[0m\u001b[0mrecognize_google\u001b[0m\u001b[1;33m(\u001b[0m\u001b[0mmyWords\u001b[0m\u001b[1;33m)\u001b[0m\u001b[1;33m)\u001b[0m\u001b[1;33m\u001b[0m\u001b[1;33m\u001b[0m\u001b[0m\n\u001b[1;32m---> 13\u001b[1;33m \u001b[0mmyWords\u001b[0m \u001b[1;33m=\u001b[0m \u001b[0mmyWords_1\u001b[0m \u001b[1;33m+\u001b[0m \u001b[0mmyWords_2\u001b[0m\u001b[1;33m\u001b[0m\u001b[1;33m\u001b[0m\u001b[0m\n\u001b[0m\u001b[0;32m     14\u001b[0m \u001b[1;32mwith\u001b[0m \u001b[0mopen\u001b[0m\u001b[1;33m(\u001b[0m\u001b[1;34m\"myAudio.wav\"\u001b[0m\u001b[1;33m,\u001b[0m \u001b[1;34m\"wb\"\u001b[0m\u001b[1;33m)\u001b[0m \u001b[1;32mas\u001b[0m \u001b[0mfile_\u001b[0m\u001b[1;33m:\u001b[0m\u001b[1;33m\u001b[0m\u001b[1;33m\u001b[0m\u001b[0m\n\u001b[0;32m     15\u001b[0m     \u001b[0mfile_\u001b[0m\u001b[1;33m.\u001b[0m\u001b[0mwrite\u001b[0m\u001b[1;33m(\u001b[0m\u001b[0mmyWords\u001b[0m\u001b[1;33m.\u001b[0m\u001b[0mget_wav_data\u001b[0m\u001b[1;33m(\u001b[0m\u001b[1;33m)\u001b[0m\u001b[1;33m)\u001b[0m\u001b[1;33m\u001b[0m\u001b[1;33m\u001b[0m\u001b[0m\n",
      "\u001b[1;31mTypeError\u001b[0m: unsupported operand type(s) for +: 'AudioData' and 'AudioData'"
     ]
    }
   ],
   "source": [
    "import os\n",
    "os.chdir('C:\\\\Users\\\\17574\\\\Desktop')\n",
    "import speech_recognition as sr\n",
    "import pyaudio\n",
    "with sr.Microphone() as source:\n",
    "    print(\"Ready? Say something quick\")\n",
    "    myWords_1 = sr.Recognizer().listen(source)\n",
    "    print(\"You Said...: \"+ sr.Recognizer().recognize_google(myWords))\n",
    "with sr.Microphone() as source:\n",
    "    print(\"Ready? Say something quick\")\n",
    "    myWords_2 = sr.Recognizer().listen(source)\n",
    "    print(\"You Said...: \"+ sr.Recognizer().recognize_google(myWords))\n",
    "myWords = myWords_1 + myWords_2\n",
    "with open(\"myAudio.wav\", \"wb\") as file_:\n",
    "    file_.write(myWords.get_wav_data())  \n",
    "from playsound import playsound\n",
    "playsound('myAudio.wav')"
   ]
  },
  {
   "cell_type": "code",
   "execution_count": 31,
   "metadata": {},
   "outputs": [
    {
     "name": "stdout",
     "output_type": "stream",
     "text": [
      "Ready? Say something quick\n",
      "You Said...: I like cake\n"
     ]
    }
   ],
   "source": [
    "\"\"\" Run like a Pro \"\"\"\n",
    "import os\n",
    "os.chdir('C:\\\\Users\\\\17574\\\\Desktop')\n",
    "import speech_recognition as sr\n",
    "import pyaudio\n",
    "with sr.Microphone() as source:\n",
    "    print(\"Ready? Say something quick\")\n",
    "    myWords = sr.Recognizer().listen(source)\n",
    "    print(\"You Said...: \"+ sr.Recognizer().recognize_google(myWords))\n",
    "with open(\"myAudio.wav\", \"wb\") as file_:\n",
    "    file_.write(myWords.get_wav_data())  \n",
    "from playsound import playsound\n",
    "playsound('myAudio.wav')"
   ]
  },
  {
   "cell_type": "code",
   "execution_count": null,
   "metadata": {},
   "outputs": [],
   "source": []
  }
 ],
 "metadata": {
  "kernelspec": {
   "display_name": "Python 3",
   "language": "python",
   "name": "python3"
  },
  "language_info": {
   "codemirror_mode": {
    "name": "ipython",
    "version": 3
   },
   "file_extension": ".py",
   "mimetype": "text/x-python",
   "name": "python",
   "nbconvert_exporter": "python",
   "pygments_lexer": "ipython3",
   "version": "3.7.4"
  }
 },
 "nbformat": 4,
 "nbformat_minor": 2
}
